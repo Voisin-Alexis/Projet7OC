{
 "cells": [
  {
   "cell_type": "code",
   "execution_count": 1,
   "metadata": {},
   "outputs": [],
   "source": [
    "import dash\n",
    "from dash import dcc\n",
    "from dash import html\n",
    "import dash_split_pane\n",
    "import plotly.express as px\n",
    "import pandas as pd\n",
    "from datetime import datetime\n",
    "import plotly.graph_objs as go\n",
    "from dash.dependencies import Input, Output\n",
    "import numpy as np\n",
    "import math\n",
    "\n",
    "import matplotlib.pyplot as plt\n",
    "import seaborn as sns\n",
    "\n",
    "#!pip install dash_daq\n",
    "import dash_daq as daq\n",
    "\n",
    "import shap\n",
    "\n",
    "from sklearn import metrics\n",
    "from sklearn.metrics import mean_absolute_error as mae\n",
    "from sklearn.metrics import mean_squared_error, accuracy_score\n",
    "from sklearn.metrics import roc_auc_score, precision_score, recall_score, roc_curve, fbeta_score, confusion_matrix, auc\n",
    "\n",
    "import plotly.figure_factory as ff\n",
    "\n",
    "import joblib\n",
    "from joblib import load\n",
    "\n",
    "import base64\n",
    "from PIL import Image\n",
    "\n",
    "from shap.plots._force_matplotlib import draw_additive_plot\n",
    "from dash import dash_table\n",
    "\n",
    "from flask import Flask, render_template, jsonify, request\n",
    "import json\n",
    "import requests\n",
    "\n",
    "import pickle"
   ]
  },
  {
   "cell_type": "markdown",
   "metadata": {},
   "source": [
    "Avant de passer au dashboard en lui même nous allons commencer par charger les données dont nous aurons besoin par la suite:"
   ]
  },
  {
   "cell_type": "code",
   "execution_count": 2,
   "metadata": {},
   "outputs": [],
   "source": [
    "cheminFichierJoblib = './fichierJoblib/'"
   ]
  },
  {
   "cell_type": "code",
   "execution_count": 3,
   "metadata": {},
   "outputs": [],
   "source": [
    "predictionStreamlit = joblib.load(cheminFichierJoblib + 'predictionStreamlit.joblib')\n",
    "predictionProbaStreamlit = joblib.load(cheminFichierJoblib + 'predictionProbaStreamlit.joblib')"
   ]
  },
  {
   "cell_type": "code",
   "execution_count": 4,
   "metadata": {},
   "outputs": [],
   "source": [
    "X_testID2 = joblib.load(cheminFichierJoblib + 'X_testID2.joblib')\n",
    "dataframeInfoXTest2 = joblib.load(cheminFichierJoblib + 'dataframeInfoXTest2.joblib')\n",
    "listeIndexSort = joblib.load(cheminFichierJoblib + 'listeIndexSort.joblib')\n",
    "dfIdClientIndex = joblib.load(cheminFichierJoblib + 'dfIdClientIndex.joblib')"
   ]
  },
  {
   "cell_type": "code",
   "execution_count": 5,
   "metadata": {},
   "outputs": [
    {
     "data": {
      "text/html": [
       "<div>\n",
       "<style scoped>\n",
       "    .dataframe tbody tr th:only-of-type {\n",
       "        vertical-align: middle;\n",
       "    }\n",
       "\n",
       "    .dataframe tbody tr th {\n",
       "        vertical-align: top;\n",
       "    }\n",
       "\n",
       "    .dataframe thead th {\n",
       "        text-align: right;\n",
       "    }\n",
       "</style>\n",
       "<table border=\"1\" class=\"dataframe\">\n",
       "  <thead>\n",
       "    <tr style=\"text-align: right;\">\n",
       "      <th></th>\n",
       "      <th>idClient</th>\n",
       "    </tr>\n",
       "  </thead>\n",
       "  <tbody>\n",
       "    <tr>\n",
       "      <th>0</th>\n",
       "      <td>100007</td>\n",
       "    </tr>\n",
       "    <tr>\n",
       "      <th>1</th>\n",
       "      <td>100014</td>\n",
       "    </tr>\n",
       "    <tr>\n",
       "      <th>2</th>\n",
       "      <td>100016</td>\n",
       "    </tr>\n",
       "    <tr>\n",
       "      <th>3</th>\n",
       "      <td>100017</td>\n",
       "    </tr>\n",
       "    <tr>\n",
       "      <th>4</th>\n",
       "      <td>100020</td>\n",
       "    </tr>\n",
       "  </tbody>\n",
       "</table>\n",
       "</div>"
      ],
      "text/plain": [
       "   idClient\n",
       "0    100007\n",
       "1    100014\n",
       "2    100016\n",
       "3    100017\n",
       "4    100020"
      ]
     },
     "execution_count": 5,
     "metadata": {},
     "output_type": "execute_result"
    }
   ],
   "source": [
    "dfIdClientIndex.head()"
   ]
  },
  {
   "cell_type": "markdown",
   "metadata": {},
   "source": [
    "# API"
   ]
  },
  {
   "cell_type": "code",
   "execution_count": 7,
   "metadata": {},
   "outputs": [
    {
     "name": "stdout",
     "output_type": "stream",
     "text": [
      " * Serving Flask app \"__main__\" (lazy loading)\n",
      " * Environment: production\n",
      "   WARNING: This is a development server. Do not use it in a production deployment.\n",
      "   Use a production WSGI server instead.\n",
      " * Debug mode: off\n"
     ]
    },
    {
     "name": "stderr",
     "output_type": "stream",
     "text": [
      " * Running on http://127.0.0.1:5000/ (Press CTRL+C to quit)\n",
      "127.0.0.1 - - [07/Dec/2021 21:08:47] \"\u001b[37mGET / HTTP/1.1\u001b[0m\" 200 -\n",
      "127.0.0.1 - - [07/Dec/2021 21:08:52] \"\u001b[37mGET /predictionModeleClient?id=100007 HTTP/1.1\u001b[0m\" 200 -\n"
     ]
    }
   ],
   "source": [
    "app = Flask(__name__)\n",
    "app.title = \"Projet 7\" #Assigning title to be displayed on tab\n",
    "#app = dash.Dash(__name__, server=server)\n",
    "\n",
    "@app.route('/')\n",
    "def listeID():\n",
    "    \n",
    "    data = [] # On initialise une liste vide\n",
    "    for id in listeIndexSort:\n",
    "        idClient = id\n",
    "        data.append(idClient)\n",
    " \n",
    "    return jsonify({'status': 'ok', 'Liste ID Client a notre disposition': data})\n",
    "\n",
    "@app.route('/infoClient', methods = ['GET'])\n",
    "def informationClient():\n",
    "    \n",
    "    if 'id' in request.args:\n",
    "        user_id = int(request.args['id'])\n",
    "    else:\n",
    "        return \"Error: No id field provided. Please specify an id.\"\n",
    "\n",
    "    \n",
    "    nombreDEnfant = dataframeInfoXTest2[dataframeInfoXTest2['SK_ID_CURR'] == user_id]['CNT_CHILDREN'].values\n",
    "    revenu = dataframeInfoXTest2[dataframeInfoXTest2['SK_ID_CURR'] == user_id]['AMT_INCOME_TOTAL'].values\n",
    "    montantDuCredit = dataframeInfoXTest2[dataframeInfoXTest2['SK_ID_CURR'] == user_id]['AMT_CREDIT'].values\n",
    "    annuiteDePret = dataframeInfoXTest2[dataframeInfoXTest2['SK_ID_CURR'] == user_id]['AMT_ANNUITY'].values\n",
    "    dureeRemboursement = montantDuCredit/annuiteDePret\n",
    "    \n",
    "    infoClient = [\n",
    "                    {\n",
    "                     'Nombre d\\'enfant': int(nombreDEnfant[0]),\n",
    "                     'Revenu du client': int(revenu[0]),\n",
    "                     'Montant du credit': int(montantDuCredit[0]),\n",
    "                     'Annuite de pret': int(annuiteDePret[0]),\n",
    "                     'Duree du remboursement': float(dureeRemboursement[0])\n",
    "                    }\n",
    "                 ]\n",
    "    \n",
    "    return jsonify(infoClient)\n",
    "\n",
    "@app.route('/predictionClient', methods = ['GET'])\n",
    "def predictionClient():\n",
    "    \n",
    "    if 'id' in request.args:\n",
    "        user_id = int(request.args['id'])\n",
    "    else:\n",
    "        return \"Error: No id field provided. Please specify an id.\"      \n",
    "        \n",
    "    target = dataframeInfoXTest2[dataframeInfoXTest2['SK_ID_CURR'] == user_id]['TARGET'].values\n",
    "    scorePred = X_testID2[X_testID2['ID'] == user_id]['Score prediction'].values\n",
    "    scoreProba = X_testID2[X_testID2['ID'] == user_id]['Score prediction proba'].values\n",
    "    if scorePred == 0:\n",
    "        pred_text = 'Negative'\n",
    "    else:\n",
    "        pred_text = 'Positive'\n",
    "    \n",
    "    predictionClient = [\n",
    "                            {'Le client recoit son credit': pred_text, \n",
    "                             'Target': int(target[0]),\n",
    "                             'Score prediction': float(scorePred[0]),\n",
    "                             'Score prediction proba': float(scoreProba[0])         \n",
    "                            }\n",
    "                       ]\n",
    "    \n",
    "    return jsonify(predictionClient)\n",
    "\n",
    "@app.route('/predictionModeleClient', methods = ['GET'])\n",
    "def predict():\n",
    "    \n",
    "    if 'id' in request.args:\n",
    "        user_id = int(request.args['id'])\n",
    "    else:\n",
    "        return \"Error: No id field provided. Please specify an id.\"\n",
    "           \n",
    "    index = dfIdClientIndex[dfIdClientIndex['idClient'] == user_id].index\n",
    "    index = int(index[0])\n",
    "           \n",
    "    #pkl_file = open('lgbmHPSeuil.pkl', 'rb')\n",
    "    #lgbmHPSeuil = pickle.load(pkl_file)\n",
    "    #y_predLgbmHPSeuil = lgbmHPSeuil.predict_proba(X_test)[::,1]\n",
    "    #prediction = lgbmHPSeuil.predict(X_test)\n",
    "    #predictionProba = lgbmHPSeuil.predict_proba(X_test)[::,1] \n",
    "    \n",
    "    prediction = predictionStreamlit\n",
    "    predictionProba = predictionProbaStreamlit          \n",
    "           \n",
    "    y_predSeuil = np.zeros(prediction.shape)\n",
    "    y_predSeuil[prediction > 0.1] = 1\n",
    "           \n",
    "    if y_predSeuil[index] == 0:\n",
    "        pred_text = 'Negative'\n",
    "    else:\n",
    "        pred_text = 'Positive'\n",
    " \n",
    "    # round the predict proba value and set to new variable\n",
    "    confidence = round(predictionProba[index], 3)\n",
    "    output = {'prediction': pred_text, 'confidence': confidence} \n",
    "           \n",
    "    return output          \n",
    "\n",
    "if __name__ == '__main__':\n",
    "   app.run(debug = False)"
   ]
  },
  {
   "cell_type": "code",
   "execution_count": null,
   "metadata": {},
   "outputs": [],
   "source": []
  }
 ],
 "metadata": {
  "kernelspec": {
   "display_name": "Python 3",
   "language": "python",
   "name": "python3"
  },
  "language_info": {
   "codemirror_mode": {
    "name": "ipython",
    "version": 3
   },
   "file_extension": ".py",
   "mimetype": "text/x-python",
   "name": "python",
   "nbconvert_exporter": "python",
   "pygments_lexer": "ipython3",
   "version": "3.8.5"
  }
 },
 "nbformat": 4,
 "nbformat_minor": 4
}
